{
 "cells": [
  {
   "cell_type": "markdown",
   "metadata": {},
   "source": [
    "# Figure 3: Line Width Analysis\n",
    "\n",
    "### Requirerd python packages:\n",
    "\n",
    "* numpy\n",
    "* matplotlib\n",
    "* pandas\n",
    "* [seaborn](https://seaborn.pydata.org/index.html)\n",
    "* [astropy](https://docs.astropy.org/en/stable/index.html)\n",
    "* [emcee](https://emcee.readthedocs.io/)\n",
    "\n"
   ]
  },
  {
   "cell_type": "code",
   "execution_count": null,
   "metadata": {},
   "outputs": [],
   "source": [
    "import numpy as np\n",
    "import matplotlib.pyplot as plt\n",
    "\n",
    "import seaborn as sns\n",
    "pal = sns.color_palette(\"colorblind\")\n",
    "\n",
    "import astropy.units as u\n",
    "from astropy.constants import m_p, k_B\n",
    "\n",
    "import emcee\n",
    "from pandas import DataFrame as df\n",
    "\n",
    "%matplotlib notebook"
   ]
  },
  {
   "cell_type": "markdown",
   "metadata": {},
   "source": [
    "## Define Model"
   ]
  },
  {
   "cell_type": "code",
   "execution_count": null,
   "metadata": {},
   "outputs": [],
   "source": [
    "def line_width(temperature, mass, turbulence):\n",
    "    \"\"\"\n",
    "    Modeled Line width\n",
    "    Corrresponds to Equation 3. in Paper\n",
    "    \"\"\"\n",
    "    return np.sqrt(2 * k_B * temperature / \n",
    "                   mass + turbulence**2).to(u.km/u.s)\n",
    "\n",
    "# Set Masses\n",
    "mass_C = 12.0107 * u.u\n",
    "mass_S = 28.0855 * u.u\n",
    "mass_N = 14.0067 * u.u\n",
    "mass_H = m_p"
   ]
  },
  {
   "cell_type": "markdown",
   "metadata": {},
   "source": [
    "## Define Log Likelihood, Prior, and Probabillity Function"
   ]
  },
  {
   "cell_type": "code",
   "execution_count": null,
   "metadata": {},
   "outputs": [],
   "source": [
    "def log_likelihood(theta, x, y, yerr): \n",
    "    \"\"\"\n",
    "    Corresponds to Equation 4. in Paper\n",
    "    \"\"\"\n",
    "    T_e, turbulence = theta\n",
    "    model_C = line_width(T_e * u.K, mass_C, turbulence * u.km/u.s).value\n",
    "    model_Si = line_width(T_e * u.K, mass_S, turbulence * u.km/u.s).value\n",
    "    model_N = line_width(T_e * u.K, mass_N, turbulence * u.km/u.s).value\n",
    "    model_H = line_width(T_e * u.K, mass_H, turbulence * u.km/u.s).value\n",
    "    \n",
    "    model = [model_C, model_Si, model_Si, model_N, model_H]\n",
    "    sigma2 = yerr ** 2\n",
    "    return -0.5 * np.sum((y - model) ** 2 / sigma2 + np.log(sigma2))\n",
    "\n",
    "def log_prior(theta):\n",
    "    T_e, turbulence = theta\n",
    "    if 2 < turbulence < 20 and 1e3 < T_e < 1e5:\n",
    "        return -((T_e - 1e4)**2 / (2 * 3000**2))\n",
    "    return -np.inf\n",
    "\n",
    "def log_probability(theta, x, y, yerr):\n",
    "    lp = log_prior(theta)\n",
    "    if not np.isfinite(lp):\n",
    "        return -np.inf\n",
    "    return lp + log_likelihood(theta, x, y, yerr)\n",
    "\n",
    "# Set measurements\n",
    "x = np.array([0,1,2,3,4]) # Meaningless - could have left out\n",
    "y = np.array([14.1, 9.3, 13.4, np.sqrt(9.6**2 - 4.7**2), np.sqrt(14.1**2 - 4.7**2)])\n",
    "yerr = np.array([5.7, 2.8, 2.4, 4.5, 2.7])"
   ]
  },
  {
   "cell_type": "code",
   "execution_count": null,
   "metadata": {},
   "outputs": [],
   "source": [
    "from multiprocessing import Pool\n",
    "pool = Pool()"
   ]
  },
  {
   "cell_type": "markdown",
   "metadata": {},
   "source": [
    "## Run MCMC"
   ]
  },
  {
   "cell_type": "code",
   "execution_count": null,
   "metadata": {},
   "outputs": [],
   "source": [
    "pos = np.array([8000., 10.]) + 1e-4 * np.random.randn(50, 2)\n",
    "nwalkers, ndim = pos.shape\n",
    "\n",
    "sampler = emcee.EnsembleSampler(nwalkers, \n",
    "                                ndim, \n",
    "                                log_probability, args=(x, y, yerr), pool = pool)\n",
    "sampler.run_mcmc(pos, 10000, \n",
    "                 progress=True)\n",
    "pool.close()"
   ]
  },
  {
   "cell_type": "markdown",
   "metadata": {},
   "source": [
    "## Assess Convergence"
   ]
  },
  {
   "cell_type": "code",
   "execution_count": null,
   "metadata": {},
   "outputs": [],
   "source": [
    "fig, axes = plt.subplots(2, figsize=(10, 7), sharex=True)\n",
    "samples = sampler.get_chain()\n",
    "labels = [\"T_e\", \"turbulence\"]\n",
    "for i in range(ndim):\n",
    "    ax = axes[i]\n",
    "    ax.plot(samples[:, :, i], \"k\", alpha=0.3)\n",
    "    ax.set_xlim(0, len(samples))\n",
    "    ax.set_ylabel(labels[i])\n",
    "    ax.yaxis.set_label_coords(-0.1, 0.5)\n",
    "\n",
    "axes[-1].set_xlabel(\"step number\");"
   ]
  },
  {
   "cell_type": "code",
   "execution_count": null,
   "metadata": {},
   "outputs": [],
   "source": [
    "tau = sampler.get_autocorr_time()\n",
    "print(tau)"
   ]
  },
  {
   "cell_type": "code",
   "execution_count": null,
   "metadata": {},
   "outputs": [],
   "source": [
    "flat_samples = sampler.get_chain(discard=100, thin=15, flat=True)\n",
    "data = df(flat_samples, columns=[\"T_e\", \"turbulence\"])"
   ]
  },
  {
   "cell_type": "markdown",
   "metadata": {},
   "source": [
    "## Plot Figure 3"
   ]
  },
  {
   "cell_type": "code",
   "execution_count": null,
   "metadata": {
    "scrolled": false
   },
   "outputs": [],
   "source": [
    "cpal = sns.mpl_palette(\"plasma\", 5)\n",
    "\n",
    "g = sns.PairGrid(data, height = 4)\n",
    "g = g.map_diag(sns.distplot, kde = False, norm_hist = False, color = cpal[0])\n",
    "# sns.distplot(data[\"T_e\"], ax = g.axes[0,0], norm_hist = False, color = cpal[-1], kde = False)\n",
    "# sns.distplot(data[\"turbulence\"], ax = g.axes[1,1], norm_hist = False, color = cpal[0], kde =False)\n",
    "g = g.map_upper(sns.kdeplot, cmap = \"plasma\", shade = True, shade_lowest = False, levels = 128)\n",
    "# g = g.map_lower(sns.kdeplot, cmap = \"Oranges\", shade = True, shade_lowest = False, levels = 128)\n",
    "\n",
    "T_est = np.percentile(data[\"T_e\"], (16, 50, 84))\n",
    "turb_est = np.percentile(data[\"turbulence\"], (16, 50, 84))\n",
    "\n",
    "\n",
    "\n",
    "ax = g.axes[0][0]\n",
    "ylim = ax.get_ylim()\n",
    "xlim = ax.set_xlim()\n",
    "ax.set_ylabel(r\"$T_e$ (K)\", fontsize = 16)\n",
    "for ell,est in enumerate(T_est):\n",
    "    lws = {0:2, 1:4, 2:2}\n",
    "    lss = {0:\"--\", 1:\"-\", 2:\"--\"}\n",
    "    ax.plot([est,est], ylim, lw = lws[ell], ls = lss[ell], color = cpal[-1], alpha = 0.9, zorder = 2)\n",
    "\n",
    "ax.set_ylim(ylim)\n",
    "ax.set_xlim(xlim)\n",
    "\n",
    "ax.set_title(r\"$T_e = {0}^{{+{1}}}_{{-{2}}}$ K\".format(np.round(T_est[1], -2), \n",
    "                                                       np.round(T_est[2] - T_est[1], -2), \n",
    "                                                       np.round(T_est[1] - T_est[0], -2)), \n",
    "             fontsize = 16)\n",
    "\n",
    "ax = g.axes[1][0]\n",
    "ax.clear()\n",
    "ax.get_shared_y_axes().remove(g.axes[1][1])\n",
    "xx = np.linspace(xlim[0], xlim[1] ,200)\n",
    "lp = np.array([log_prior([x,turb_est[1]]) for x in xx])\n",
    "ax.plot(xx[~np.isinf(lp)], np.exp(lp[~np.isinf(lp)]), \n",
    "        color = cpal[2], lw = 4, ls = \"-\", alpha = 0.6)\n",
    "ax.fill_between(xx[~np.isinf(lp)], np.exp(lp[~np.isinf(lp)]), \n",
    "                np.zeros_like(xx[~np.isinf(lp)]),\n",
    "                color = cpal[2], alpha = 0.3, zorder = 0)\n",
    "ylim = ax.get_ylim()\n",
    "for ell,est in enumerate(T_est):\n",
    "    lws = {0:2, 1:4, 2:2}\n",
    "    lss = {0:\"--\", 1:\"-\", 2:\"--\"}\n",
    "    ax.plot([est,est], ylim, lw = lws[ell], ls = lss[ell], color = cpal[-1], alpha = 0.9, zorder = 2)\n",
    "ax.set_xlim(xlim)\n",
    "ax.set_ylim(ylim)\n",
    "\n",
    "ax.set_xlabel(r\"$T_e$ (K)\", fontsize = 16)\n",
    "ax.set_ylabel(\"Prior\", fontsize = 16)\n",
    "\n",
    "\n",
    "\n",
    "\n",
    "\n",
    "ax = g.axes[0][1]\n",
    "ylim = ax.get_ylim()\n",
    "xlim = ax.set_xlim()\n",
    "for ell,est in enumerate(turb_est):\n",
    "    lws = {0:2, 1:4, 2:2}\n",
    "    lss = {0:\"--\", 1:\"-\", 2:\"--\"}\n",
    "    ax.plot([est,est], ylim, lw = lws[ell], ls = lss[ell], color = cpal[-1], alpha = 0.7, zorder = 2)\n",
    "for ell,est in enumerate(T_est):\n",
    "    lws = {0:2, 1:4, 2:2}\n",
    "    lss = {0:\"--\", 1:\"-\", 2:\"--\"}\n",
    "    ax.plot(xlim, [est,est], lw = lws[ell], ls = lss[ell], color = cpal[-1], alpha = 0.7, zorder = 2)\n",
    "ax.set_ylim(ylim)\n",
    "ax.set_xlim(xlim)\n",
    "\n",
    "ax.set_title(r\"$\\sigma_{{nonT}} = {0:.1f}^{{+{1:.1f}}}_{{-{2:.1f}}}$ km/s\".format(turb_est[1], \n",
    "                                                                              turb_est[2] - turb_est[1], \n",
    "                                                                              turb_est[1] - turb_est[0]), \n",
    "             fontsize = 16)\n",
    "\n",
    "ax = g.axes[1][1]\n",
    "ylim = ax.get_ylim()\n",
    "xlim = ax.set_xlim()\n",
    "ax.set_xlabel(\"$\\sigma_{{nonThermal}}$ (km/s)\", fontsize = 16)\n",
    "for ell,est in enumerate(turb_est):\n",
    "    lws = {0:2, 1:4, 2:2}\n",
    "    lss = {0:\"--\", 1:\"-\", 2:\"--\"}\n",
    "    ax.plot([est,est], ylim, lw = lws[ell], ls = lss[ell], color = cpal[-1], alpha = 0.9, zorder = 2)\n",
    "ax.set_ylim(ylim)\n",
    "ax.set_xlim(xlim)\n",
    "\n",
    "\n",
    "\n",
    "\n",
    "\n",
    "plt.tight_layout()\n",
    "\n"
   ]
  },
  {
   "cell_type": "code",
   "execution_count": null,
   "metadata": {},
   "outputs": [],
   "source": []
  }
 ],
 "metadata": {
  "kernelspec": {
   "display_name": "Python 3",
   "language": "python",
   "name": "python3"
  },
  "language_info": {
   "codemirror_mode": {
    "name": "ipython",
    "version": 3
   },
   "file_extension": ".py",
   "mimetype": "text/x-python",
   "name": "python",
   "nbconvert_exporter": "python",
   "pygments_lexer": "ipython3",
   "version": "3.7.4"
  }
 },
 "nbformat": 4,
 "nbformat_minor": 2
}
